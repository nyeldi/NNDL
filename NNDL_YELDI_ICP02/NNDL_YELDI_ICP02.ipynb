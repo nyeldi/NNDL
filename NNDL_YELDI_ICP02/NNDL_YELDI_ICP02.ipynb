{
  "nbformat": 4,
  "nbformat_minor": 0,
  "metadata": {
    "colab": {
      "provenance": []
    },
    "kernelspec": {
      "name": "python3",
      "display_name": "Python 3"
    },
    "language_info": {
      "name": "python"
    }
  },
  "cells": [
    {
      "cell_type": "markdown",
      "source": [
        "Program 1: The program takes two strings from the user: first_name, last_name. Pass these variables to the fullname function that should return the (full name)."
      ],
      "metadata": {
        "id": "hbHjtXmnFtdI"
      }
    },
    {
      "cell_type": "code",
      "execution_count": 2,
      "metadata": {
        "colab": {
          "base_uri": "https://localhost:8080/"
        },
        "id": "HnxMVVx5FYWM",
        "outputId": "bc9ef760-e9d8-4224-c837-99946a74c0c3"
      },
      "outputs": [
        {
          "output_type": "stream",
          "name": "stdout",
          "text": [
            "Enter your first name: NIKITHA\n",
            "Enter your last name: YELDI\n",
            "NIKITHA YELDI\n",
            "Enter the string: GOOD EVENING\n",
            "GO VNN\n"
          ]
        }
      ],
      "source": [
        "# Function that takes first name and last name and returns full name\n",
        "def full_name(first_name, last_name):\n",
        "\n",
        "  #Combined using string concatenation operator\n",
        "  return first_name + \" \" + last_name\n",
        "\n",
        "# Function that takes a string and returns string with alternative characters\n",
        "def string_alternative(original_string):\n",
        "\n",
        "  #Alternate characters are taken using slicing operator with step 2\n",
        "  return original_string[::2]\n",
        "\n",
        "#Taking first name input\n",
        "First_name = input(\"Enter your first name: \")\n",
        "\n",
        "#Taking last name input\n",
        "Last_name = input(\"Enter your last name: \")\n",
        "\n",
        "#Calling funtion and printing full name\n",
        "print(full_name(First_name, Last_name))\n",
        "\n",
        "#Inputting a string from the user\n",
        "Original_string = input(\"Enter the string: \")\n",
        "\n",
        "#Printing alternate characters in the string\n",
        "print(string_alternative(Original_string))"
      ]
    },
    {
      "cell_type": "markdown",
      "source": [
        "Program 2: The program to find the word count in a file (input.txt) for each line and then print the output."
      ],
      "metadata": {
        "id": "lSwuoPaWIPmd"
      }
    },
    {
      "cell_type": "code",
      "source": [
        "#Opening input.txt file and reading the contents using a variable\n",
        "with open('input.txt', 'r') as reader:\n",
        "  contents = []\n",
        "\n",
        "  #Getting each line in the file and splitting them into words and adding them to the list\n",
        "  for line in reader.readlines():\n",
        "    contents += list(map(str.strip, line.split(\" \")))\n",
        "\n",
        "\n",
        "#Defining empty dictionary to store the word count\n",
        "word_count = {}\n",
        "for i in contents:\n",
        "\n",
        "  #Checking if the word already exists in the dictionary\n",
        "  #If it is present, then it's count is incremented\n",
        "  if i in word_count.keys():\n",
        "    word_count[i] += 1\n",
        "\n",
        "  #Else new key is created and it's value is set to 1 indiacting it's first occurance in the file\n",
        "  else:\n",
        "    word_count[i] = 1\n",
        "\n",
        "#New file is created and writing the contents in the dictionary to this file\n",
        "with open('output.txt', 'w') as writer:\n",
        "\n",
        "    #Accessing each word and it's value and writing it in the file\n",
        "    for word, value in word_count.items():\n",
        "        writer.write(word + \": \" + str(value) + \"\\n\")\n",
        "\n",
        "    #Closing this file automatically downloads it to the system\n",
        "    writer.close()"
      ],
      "metadata": {
        "id": "buYoQfK4Jk0C"
      },
      "execution_count": null,
      "outputs": []
    },
    {
      "cell_type": "markdown",
      "source": [
        "Program 3: Python program which reads heights (inches.) of customers into a list and convert these heights to centimeters in a separate list using:\n",
        "\n",
        "1. Nested Interactive loop.\n",
        "\n",
        "2. List comprehensions"
      ],
      "metadata": {
        "id": "2jPK8EO_NADx"
      }
    },
    {
      "cell_type": "code",
      "source": [
        "# takes the heights in inches\n",
        "def convert_heights(heights_inches):\n",
        "  # convert height inches to cm\n",
        "    return [round(height * 2.54, 2) for height in heights_inches]\n",
        "\n",
        "# Inputs to be taken from the customer\n",
        "num_cust = int(input(\"No.of customers: \"))\n",
        "\n",
        "# Nested Interactive loop\n",
        "heights_inches = [float(input(f\"Enter height in inches for customer {i + 1}: \")) for i in range(num_cust)]\n",
        "\n",
        "# List comprehension\n",
        "heights_cm = convert_heights(heights_inches)\n",
        "\n",
        "# Printing the heights in centimeters\n",
        "print(\"Heights in Centimeters:\", heights_cm)"
      ],
      "metadata": {
        "colab": {
          "base_uri": "https://localhost:8080/"
        },
        "id": "-i2qD_2GNKB7",
        "outputId": "91f6dce7-3102-4fff-e619-66d3117efe1c"
      },
      "execution_count": 17,
      "outputs": [
        {
          "output_type": "stream",
          "name": "stdout",
          "text": [
            "No.of customers: 4\n",
            "Enter height in inches for customer 1: 150\n",
            "Enter height in inches for customer 2: 155\n",
            "Enter height in inches for customer 3: 145\n",
            "Enter height in inches for customer 4: 148\n",
            "Heights in Centimeters: [381.0, 393.7, 368.3, 375.92]\n"
          ]
        }
      ]
    }
  ]
}