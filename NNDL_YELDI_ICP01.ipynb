{
  "nbformat": 4,
  "nbformat_minor": 0,
  "metadata": {
    "colab": {
      "provenance": []
    },
    "kernelspec": {
      "name": "python3",
      "display_name": "Python 3"
    },
    "language_info": {
      "name": "python"
    }
  },
  "cells": [
    {
      "cell_type": "markdown",
      "source": [
        "1a.Write a python program for the following:\n",
        "\n",
        "Input the string “Python” as a list of characters from console, delete at least 2 characters, reverse the resultant string and print it."
      ],
      "metadata": {
        "id": "ilEgByejaWZv"
      }
    },
    {
      "cell_type": "code",
      "execution_count": 7,
      "metadata": {
        "colab": {
          "base_uri": "https://localhost:8080/"
        },
        "id": "9sjVefbdaUgh",
        "outputId": "078fa375-5d5b-431a-b6f5-93f684a84d53"
      },
      "outputs": [
        {
          "output_type": "stream",
          "name": "stdout",
          "text": [
            "Input the string: Python\n",
            "['P', 'y', 't', 'h', 'o', 'n']\n",
            "htyP\n"
          ]
        }
      ],
      "source": [
        "# Taking the string from the user\n",
        "initial_string = list(input(\"Input the string: \"))\n",
        "\n",
        "# Printing the list of characters taken from the user\n",
        "print(initial_string)\n",
        "\n",
        "# Removing first 2 characters from the string using slicing\n",
        "final_string = initial_string[:len(initial_string)-2]\n",
        "\n",
        "# Reversing the string and printing the final output as a string\n",
        "print(\"\".join(final_string[::-1]))"
      ]
    },
    {
      "cell_type": "markdown",
      "source": [
        "1b. Take two numbers from user and perform at least 4 arithmetic operations on them."
      ],
      "metadata": {
        "id": "uWdzjAcJa97e"
      }
    },
    {
      "cell_type": "code",
      "source": [
        "# Taking two numbers from the user\n",
        "num1, num2 = map(int, input(\"Input 2 numbers seperating them with a space between them: \").split())\n",
        "\n",
        "#Adding the numbers\n",
        "print(\"Addition of \" + str(num1) + \" and \" + str(num2) + \" is \"+ str(num1 + num2))\n",
        "\n",
        "#Subtracting the numbers\n",
        "print(\"Subtraction of \" + str(num1) + \" and \" + str(num2) + \" is \"+ str(num1 - num2))\n",
        "\n",
        "#Multiplying the numbers\n",
        "print(\"Multiplication of \" + str(num1) + \" and \" + str(num2) + \" is \"+ str(num1 * num2))\n",
        "\n",
        "#Dividing the numbers\n",
        "print(\"Division of \" + str(num1) + \" and \" + str(num2) + \" is \"+ str(num1 // num2))\n",
        "\n",
        "#Modulo Division of the numbers\n",
        "print(\"Modulo Division of \" + str(num1) + \" and \" + str(num2) + \" is \"+ str(num1 % num2))"
      ],
      "metadata": {
        "colab": {
          "base_uri": "https://localhost:8080/"
        },
        "id": "cjVGoAdZbJRK",
        "outputId": "4a327b1b-7377-4f1d-f20b-fa582738e048"
      },
      "execution_count": 3,
      "outputs": [
        {
          "output_type": "stream",
          "name": "stdout",
          "text": [
            "Input 2 numbers seperating them with a space between them: 7 2\n",
            "Addition of 7 and 2 is 9\n",
            "Subtraction of 7 and 2 is 5\n",
            "Multiplication of 7 and 2 is 14\n",
            "Division of 7 and 2 is 3\n",
            "Modulo Division of 7 and 2 is 1\n"
          ]
        }
      ]
    },
    {
      "cell_type": "markdown",
      "source": [
        "2.Write a program that accepts a sentence and replace each occurrence of ‘python’ with ‘pythons’."
      ],
      "metadata": {
        "id": "eH867-9abh1f"
      }
    },
    {
      "cell_type": "code",
      "source": [
        "#Inputting the string from the user\n",
        "input_string = input(\"Enter the string: \")\n",
        "\n",
        "#Replacing each occurrence of the word 'python' with 'pythons' using replace method\n",
        "output_string = input_string.replace(\"python\", \"pythons\")\n",
        "\n",
        "#Printing the final output\n",
        "print(output_string)"
      ],
      "metadata": {
        "colab": {
          "base_uri": "https://localhost:8080/"
        },
        "id": "o-iWXHGKboSA",
        "outputId": "3206d8b5-1cc9-4232-a679-9ca380ac2277"
      },
      "execution_count": 12,
      "outputs": [
        {
          "output_type": "stream",
          "name": "stdout",
          "text": [
            "Enter the string: I love python\n",
            "I love pythons\n"
          ]
        }
      ]
    },
    {
      "cell_type": "markdown",
      "source": [
        "3. Use the if statement conditions to write a program to print the letter grade based on an input classscore. Use the grading scheme we are using in this class."
      ],
      "metadata": {
        "id": "86rTISXCb8Ve"
      }
    },
    {
      "cell_type": "code",
      "source": [
        "#Inputting the score\n",
        "score = int(input(\"Enter your score: \"))\n",
        "\n",
        "#Using if conditions to display the grade of the user\n",
        "if score>=90 and score<=100:\n",
        "  print(\"Grade: A\")\n",
        "elif score>=80 and score<=89:\n",
        "  print(\"Grade: B\")\n",
        "elif score>=70 and score<=79:\n",
        "  print(\"Grade: C\")\n",
        "elif score>=60 and score<=69:\n",
        "  print(\"Grade: D\")\n",
        "elif score<=59:\n",
        "  print(\"Grade: F\")"
      ],
      "metadata": {
        "colab": {
          "base_uri": "https://localhost:8080/"
        },
        "id": "6wpFlYCwcCDR",
        "outputId": "2f3d145d-1f57-4fda-e0d7-ec623c80fd75"
      },
      "execution_count": 9,
      "outputs": [
        {
          "output_type": "stream",
          "name": "stdout",
          "text": [
            "Enter your score: 83\n",
            "Grade: B\n"
          ]
        }
      ]
    }
  ]
}